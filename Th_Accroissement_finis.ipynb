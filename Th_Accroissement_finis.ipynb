{
 "cells": [
  {
   "cell_type": "markdown",
   "metadata": {},
   "source": [
    "$$\\Large \\text{ Montrer que la double inégalité suivante est satisfaite:}$$\n",
    "\n",
    "$\\large \\text{pour tout   } x \\geq 0$  $\\frac{x}{x+1}\\leq ln(1+x) \\leq x $\n"
   ]
  },
  {
   "cell_type": "markdown",
   "metadata": {},
   "source": [
    "##  Premiere étape : l'éxistance de $\\huge c$:"
   ]
  },
  {
   "cell_type": "markdown",
   "metadata": {},
   "source": [
    "$\\large \\exists c \\in [0, x[   \\text{tel que } f'(c)=\\frac{f(x)-f(0)}{x-0}= \\frac{f(x)}{x}$   $\\large \\text{  Retenons cela        (1)}$"
   ]
  },
  {
   "cell_type": "markdown",
   "metadata": {},
   "source": [
    "##  Deuxième étape : l'déterminer $\\huge c$ en fonction de $\\huge f'(c)$:"
   ]
  },
  {
   "cell_type": "markdown",
   "metadata": {},
   "source": [
    "$\\large f(x)= ln(1+x) \\rightarrow f'(x)=\\frac{1}{1+x}$ \n",
    "### ET\n",
    "$\\large f'(c)=\\frac{1}{1+c}$\n",
    "$\\large \\text{ On a donc:} \\color{red}{\\Huge c= \\frac{1}{f'(c)}-1} $    $\\large \\text{  Retenons cela        (2)}$"
   ]
  },
  {
   "cell_type": "markdown",
   "metadata": {},
   "source": [
    "## Résumons:   \n",
    "### On a les donéees suivantes  :\n",
    "\n",
    "$\\large \\color{green } {c \\in [0, x[ } \\text{   ce qui veut dire qu 'on a: }$\n",
    "\n",
    " $ \\huge \\color{red}{c\\geq 0}$\n",
    " \n",
    "$ \\huge \\color{red}{c < x}$\n",
    "\n"
   ]
  },
  {
   "cell_type": "markdown",
   "metadata": {},
   "source": [
    " $\\large \\text{Pour } \\Huge c\\geq 0 $ \n",
    " \n",
    " $\\large \\text{ Revenons à  (2)  }$  $\\large c\\geq 0  \\rightarrow  \\frac{1}{f'(c)}-1 \\geq 0 \\rightarrow f'(c)\\leq 1$\n",
    "\n",
    "## Or on a déjà   $\\large f'(c) = \\frac{f(x)}{x}$\n",
    "\n",
    "$\\large \\text{ Donc on a :} \\frac{f(x)}{x}\\leq 1 \\rightarrow \\huge f(x)\\leq x  \\large \\text{  Retenons cela        (3)}$\n",
    "\n"
   ]
  },
  {
   "cell_type": "markdown",
   "metadata": {},
   "source": [
    " $\\large \\text {Pour }\\Huge c\\leq x $ \n",
    " \n",
    "  $\\large \\text{ Revenons à  (2)  }$   $\\large c\\leq x  \\rightarrow  \\frac{1}{f'(c)}-1 \\leq x\n",
    "  \\rightarrow f'(c)\\geq \\frac{1}{1+x}$ \n",
    "  \n",
    "  $\\large \\text{Or on a  f'(c)}=\\frac{f(x)}{x}   \\text{Donc on aura } \\frac{f(x)}{x}  \\geq \\frac{1}{1+x} \\rightarrow f(x) \\geq \\frac{x}{1+x}$"
   ]
  },
  {
   "cell_type": "markdown",
   "metadata": {},
   "source": [
    "## Finaelment on peut conclure ce qui suit :\n",
    "\n",
    "$\\huge f(x)\\leq x   \\color{red}   {\\text{  Et}}   f(x) \\geq \\frac{x}{1+x} $\n",
    "\n",
    "\n",
    "$$\\Huge  \\frac{x}{1+x} \\leq ln(x+1) \\leq x  $$"
   ]
  },
  {
   "cell_type": "code",
   "execution_count": null,
   "metadata": {},
   "outputs": [],
   "source": []
  },
  {
   "cell_type": "code",
   "execution_count": null,
   "metadata": {},
   "outputs": [],
   "source": []
  },
  {
   "cell_type": "code",
   "execution_count": null,
   "metadata": {},
   "outputs": [],
   "source": []
  }
 ],
 "metadata": {
  "kernelspec": {
   "display_name": "R",
   "language": "R",
   "name": "ir"
  },
  "language_info": {
   "codemirror_mode": "r",
   "file_extension": ".r",
   "mimetype": "text/x-r-source",
   "name": "R",
   "pygments_lexer": "r",
   "version": "3.4.3"
  }
 },
 "nbformat": 4,
 "nbformat_minor": 2
}
